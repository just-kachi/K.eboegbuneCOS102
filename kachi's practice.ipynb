{
 "cells": [
  {
   "cell_type": "code",
   "execution_count": 4,
   "id": "745c980b-2df0-4e92-a4c7-5ceaf51e7f7a",
   "metadata": {},
   "outputs": [
    {
     "name": "stdout",
     "output_type": "stream",
     "text": [
      "Hello Guys\n",
      "How are you all?\n",
      "Welcome to Python Programming\n"
     ]
    }
   ],
   "source": [
    "\n",
    "# We are writing a simple program here\n",
    "#First print statement.\n",
    "#This is a multiple line comment.\n",
    "\n",
    "print(\"Hello Guys\")\n",
    "\n",
    "# Second print statement\n",
    "print(\"How are you all?\")\n",
    "\n",
    "# Third print statement\n",
    "print(\"Welcome to Python Programming\")\n"
   ]
  },
  {
   "cell_type": "code",
   "execution_count": 6,
   "id": "e2e7bbad-2720-49a5-aa14-57a29bb46af9",
   "metadata": {},
   "outputs": [
    {
     "name": "stdout",
     "output_type": "stream",
     "text": [
      "Three digit number\n"
     ]
    }
   ],
   "source": [
    "num = 100\n",
    "\n",
    "if 9 < num < 99:\n",
    "    print(\"Two digit number\")\n",
    "\n",
    "elif 99 < num < 999:\n",
    "    print(\"Three digit number\")\n",
    "\n",
    "elif 999 < num < 9999:\n",
    "    print(\"Four digit number\")\n",
    "\n",
    "else:\n",
    "    print(\"number is <= 9 or >=9999\")"
   ]
  },
  {
   "cell_type": "code",
   "execution_count": 7,
   "id": "c9ce142e-709b-45e1-84e0-45057059d895",
   "metadata": {},
   "outputs": [
    {
     "name": "stdout",
     "output_type": "stream",
     "text": [
      "number is <= 9 or >=9999\n"
     ]
    }
   ],
   "source": [
    "if 9 < num < 99:\n",
    "    print(\"Two digit number\")\n",
    "\n",
    "    if 99 < num < 999:\n",
    "        print(\"Three digit number\")\n",
    "\n",
    "        if 999 < num < 9999:\n",
    "            print(\"Four digit number\")\n",
    "\n",
    "else:\n",
    "    print(\"number is <= 9 or >=9999\")"
   ]
  },
  {
   "cell_type": "code",
   "execution_count": 16,
   "id": "0afab17a-abd7-4636-82ca-8a4747333de6",
   "metadata": {},
   "outputs": [
    {
     "name": "stdout",
     "output_type": "stream",
     "text": [
      "Welcome to CSC 102 Introduction to Problem solving\n"
     ]
    }
   ],
   "source": [
    "message = \"Welcome to\"\n",
    "course_code = \"CSC 102\"\n",
    "course_title = \"Introduction to Problem solving\"\n",
    "\n",
    "concat = message +' '+ course_code +' '+ course_title\n",
    "\n",
    "print(concat)"
   ]
  },
  {
   "cell_type": "code",
   "execution_count": null,
   "id": "460d0d4f-fdc0-41f9-9aac-8bdcd0ed229d",
   "metadata": {},
   "outputs": [],
   "source": []
  },
  {
   "cell_type": "code",
   "execution_count": null,
   "id": "81119c52-2037-4a22-a2de-7987225b357c",
   "metadata": {},
   "outputs": [],
   "source": []
  }
 ],
 "metadata": {
  "kernelspec": {
   "display_name": "Python 3 (ipykernel)",
   "language": "python",
   "name": "python3"
  },
  "language_info": {
   "codemirror_mode": {
    "name": "ipython",
    "version": 3
   },
   "file_extension": ".py",
   "mimetype": "text/x-python",
   "name": "python",
   "nbconvert_exporter": "python",
   "pygments_lexer": "ipython3",
   "version": "3.11.7"
  }
 },
 "nbformat": 4,
 "nbformat_minor": 5
}
