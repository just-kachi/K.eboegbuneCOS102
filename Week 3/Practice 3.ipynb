{
 "cells": [
  {
   "cell_type": "code",
   "execution_count": null,
   "id": "b85fb758-063c-4f3a-a101-6a9376eec6b8",
   "metadata": {},
   "outputs": [],
   "source": [
    "List = [ 'Anaconda', 786, 2.23, 'Jupyter', 70.2 ]\n",
    "shortlist = [321, 'Python' ]\n",
    "\n",
    "print(list)                # prints complete list\n",
    "print(list[0])             # prints first element of the list       \n",
    "print(list[1:3])           # Prints elements starting from 2nd till 3rd\n",
    "print(list[2:])            # prints elements starting from 3rd element \n",
    "print(shortlist * 2)       # prints list two times\n",
    "print(list + shortlist)    # prints concatenated lists"
   ]
  }
 ],
 "metadata": {
  "kernelspec": {
   "display_name": "Python 3 (ipykernel)",
   "language": "python",
   "name": "python3"
  },
  "language_info": {
   "codemirror_mode": {
    "name": "ipython",
    "version": 3
   },
   "file_extension": ".py",
   "mimetype": "text/x-python",
   "name": "python",
   "nbconvert_exporter": "python",
   "pygments_lexer": "ipython3",
   "version": "3.11.7"
  }
 },
 "nbformat": 4,
 "nbformat_minor": 5
}
