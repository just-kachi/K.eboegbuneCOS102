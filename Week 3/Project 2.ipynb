{
 "cells": [
  {
   "cell_type": "code",
   "execution_count": null,
   "id": "2cd418cd-c4b6-4e71-bbff-69a558a7f851",
   "metadata": {},
   "outputs": [
    {
     "name": "stdout",
     "output_type": "stream",
     "text": [
      "\n",
      "Operations:\n",
      "1. Find roots of a cubic equation\n",
      "2. Find roots of a quartic equation (not implemented)\n",
      "3. Find roots of a quadratic equation\n",
      "4. Exit\n"
     ]
    },
    {
     "name": "stdin",
     "output_type": "stream",
     "text": [
      "Enter your choice (1, 2, 3, or 4):  2\n"
     ]
    },
    {
     "name": "stdout",
     "output_type": "stream",
     "text": [
      "Quartic equation roots not implemented yet.\n",
      "\n",
      "Operations:\n",
      "1. Find roots of a cubic equation\n",
      "2. Find roots of a quartic equation (not implemented)\n",
      "3. Find roots of a quadratic equation\n",
      "4. Exit\n"
     ]
    },
    {
     "name": "stdin",
     "output_type": "stream",
     "text": [
      "Enter your choice (1, 2, 3, or 4):  2\n"
     ]
    },
    {
     "name": "stdout",
     "output_type": "stream",
     "text": [
      "Quartic equation roots not implemented yet.\n",
      "\n",
      "Operations:\n",
      "1. Find roots of a cubic equation\n",
      "2. Find roots of a quartic equation (not implemented)\n",
      "3. Find roots of a quadratic equation\n",
      "4. Exit\n"
     ]
    },
    {
     "name": "stdin",
     "output_type": "stream",
     "text": [
      "Enter your choice (1, 2, 3, or 4):  1\n",
      "Enter coefficient A:  2\n",
      "Enter coefficient B:  4\n",
      "Enter coefficient C:  5\n",
      "Enter coefficient D:  5\n"
     ]
    },
    {
     "name": "stdout",
     "output_type": "stream",
     "text": [
      "Real Root: (0.6405079053501108+0.29646533843668615j)\n",
      "Imaginary Root: (-1.3202539526750554-0.14823266921834308j)\n",
      "Complex Root: (-1.3202539526750554-0.14823266921834308j)\n",
      "\n",
      "Operations:\n",
      "1. Find roots of a cubic equation\n",
      "2. Find roots of a quartic equation (not implemented)\n",
      "3. Find roots of a quadratic equation\n",
      "4. Exit\n"
     ]
    }
   ],
   "source": [
    "import math\n",
    "\n",
    "def cubic_roots(A, B, C, D):\n",
    "    discriminant0 = B**2 - 3*A*C\n",
    "    discriminant1 = 2*B**3 - 9*A*B*C + 27*A**2*D\n",
    "    Q = (discriminant1 + (discriminant1**2 - 4*(discriminant0**3))**0.5)/2\n",
    "    R = (discriminant1 - (discriminant1**2 - 4*(discriminant0**3))**0.5)/2\n",
    "    real_root = (Q**(1/3) + R**(1/3) - B)/(3*A)\n",
    "    imaginary_root = (-(Q**(1/3) + R**(1/3))/2 - B)/(3*A)\n",
    "    complex_root = (-(Q**(1/3) + R**(1/3))/2 - B)/(3*A)\n",
    "    return real_root, imaginary_root, complex_root\n",
    "\n",
    "def quartic_roots(A, B, C, D, E):\n",
    "    # Quartic equation roots can be calculated using specialized methods like Ferrari's method\n",
    "    # or by transforming it into a system of two quadratic equations. \n",
    "    pass\n",
    "\n",
    "def quadratic_roots(A, B, C):\n",
    "    discriminant = B**2 - 4*A*C\n",
    "    if discriminant > 0:\n",
    "        root1 = (-B + math.sqrt(discriminant)) / (2*A)\n",
    "        root2 = (-B - math.sqrt(discriminant)) / (2*A)\n",
    "        return root1, root2\n",
    "    elif discriminant == 0:\n",
    "        root = -B / (2*A)\n",
    "        return root, root\n",
    "    else:\n",
    "        real_part = -B / (2*A)\n",
    "        imaginary_part = math.sqrt(abs(discriminant)) / (2*A)\n",
    "        root1 = complex(real_part, imaginary_part)\n",
    "        root2 = complex(real_part, -imaginary_part)\n",
    "        return root1, root2\n",
    "\n",
    "# Main program\n",
    "while True:\n",
    "    print(\"\\nOperations:\")\n",
    "    print(\"1. Find roots of a cubic equation\")\n",
    "    print(\"2. Find roots of a quartic equation (not implemented)\")\n",
    "    print(\"3. Find roots of a quadratic equation\")\n",
    "    print(\"4. Exit\")\n",
    "\n",
    "    choice = input(\"Enter your choice (1, 2, 3, or 4): \")\n",
    "\n",
    "    if choice == '1':\n",
    "        A = float(input(\"Enter coefficient A: \"))\n",
    "        B = float(input(\"Enter coefficient B: \"))\n",
    "        C = float(input(\"Enter coefficient C: \"))\n",
    "        D = float(input(\"Enter coefficient D: \"))\n",
    "        real_root, imaginary_root, complex_root = cubic_roots(A, B, C, D)\n",
    "        print(\"Real Root:\", real_root)\n",
    "        print(\"Imaginary Root:\", imaginary_root)\n",
    "        print(\"Complex Root:\", complex_root)\n",
    "\n",
    "    elif choice == '2':\n",
    "        print(\"Quartic equation roots not implemented yet.\")\n",
    "\n",
    "    elif choice == '3':\n",
    "        A = float(input(\"Enter coefficient A: \"))\n",
    "        B = float(input(\"Enter coefficient B: \"))\n",
    "        C = float(input(\"Enter coefficient C: \"))\n",
    "        root1, root2 = quadratic_roots(A, B, C)\n",
    "        print(\"Root 1:\", root1)\n",
    "        print(\"Root 2:\", root2)\n",
    "\n",
    "    elif choice == '4':\n",
    "        print(\"Exiting the program. Goodbye!\")\n",
    "        break\n",
    "\n",
    "    else:\n",
    "        print(\"Invalid choice. Please enter a valid option.\")\n"
   ]
  },
  {
   "cell_type": "code",
   "execution_count": null,
   "id": "0fa3370d-7a52-4168-8c47-782ef6b2c91b",
   "metadata": {},
   "outputs": [],
   "source": []
  }
 ],
 "metadata": {
  "kernelspec": {
   "display_name": "Python 3 (ipykernel)",
   "language": "python",
   "name": "python3"
  },
  "language_info": {
   "codemirror_mode": {
    "name": "ipython",
    "version": 3
   },
   "file_extension": ".py",
   "mimetype": "text/x-python",
   "name": "python",
   "nbconvert_exporter": "python",
   "pygments_lexer": "ipython3",
   "version": "3.11.7"
  }
 },
 "nbformat": 4,
 "nbformat_minor": 5
}
