{
 "cells": [
  {
   "cell_type": "code",
   "execution_count": null,
   "id": "111d1004-74a7-4ad6-b88f-96310966df08",
   "metadata": {},
   "outputs": [],
   "source": [
    "tuple = (\"Ekiti\", 750, 'Oshogbo', 250, \"Akure\", 500)\n",
    "s_tuple = (\"Abeokuta\", 300, \"Ogbomoso\")\n",
    "\n",
    "# prints the complete tuple\n",
    "print (tuple)\n",
    "\n",
    "# prints last element of the tuple\n",
    "print (tuple[-1])\n",
    "\n",
    "# prints elements of the tuple starting from 2nd till 3rd\n",
    "print (tuple[2:4])\n",
    "\n",
    "# prints elements of the tuple starting from 3rd element\n",
    "print (tuple[3:])\n",
    "\n",
    "# prints the contents of the tuple twice\n",
    "print (s_tuple * 3)\n",
    "\n",
    "# prints concatenated tuples\n",
    "print (tuple + s_tuple)"
   ]
  }
 ],
 "metadata": {
  "kernelspec": {
   "display_name": "Python 3 (ipykernel)",
   "language": "python",
   "name": "python3"
  },
  "language_info": {
   "codemirror_mode": {
    "name": "ipython",
    "version": 3
   },
   "file_extension": ".py",
   "mimetype": "text/x-python",
   "name": "python",
   "nbconvert_exporter": "python",
   "pygments_lexer": "ipython3",
   "version": "3.11.7"
  }
 },
 "nbformat": 4,
 "nbformat_minor": 5
}
