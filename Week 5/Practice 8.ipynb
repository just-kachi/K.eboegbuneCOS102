{
 "cells": [
  {
   "cell_type": "code",
   "execution_count": 1,
   "id": "edc5a1c4-dd28-473b-9005-02dff9e191fb",
   "metadata": {},
   "outputs": [
    {
     "name": "stdout",
     "output_type": "stream",
     "text": [
      "Inside the function local total:  30\n",
      "Outside the function global total:  50\n"
     ]
    }
   ],
   "source": [
    "total = 50; #This is global variable.\n",
    "def sum( arg1, arg2 ):\n",
    "    #Add both the parameters\n",
    "    total = arg1 + arg2;\n",
    "    print (\"Inside the function local total: \", total)\n",
    "    return total;\n",
    "\n",
    "#Now you can call sum function\n",
    "sum(10, 20);\n",
    "print (\"Outside the function global total: \", total)"
   ]
  },
  {
   "cell_type": "code",
   "execution_count": null,
   "id": "6734a207-82b8-4517-912e-349276dac192",
   "metadata": {},
   "outputs": [],
   "source": []
  }
 ],
 "metadata": {
  "kernelspec": {
   "display_name": "Python 3 (ipykernel)",
   "language": "python",
   "name": "python3"
  },
  "language_info": {
   "codemirror_mode": {
    "name": "ipython",
    "version": 3
   },
   "file_extension": ".py",
   "mimetype": "text/x-python",
   "name": "python",
   "nbconvert_exporter": "python",
   "pygments_lexer": "ipython3",
   "version": "3.11.7"
  }
 },
 "nbformat": 4,
 "nbformat_minor": 5
}
