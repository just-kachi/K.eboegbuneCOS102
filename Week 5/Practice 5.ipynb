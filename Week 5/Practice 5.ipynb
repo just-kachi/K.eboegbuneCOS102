{
 "cells": [
  {
   "cell_type": "code",
   "execution_count": 1,
   "id": "18c95c50-3546-48e5-9463-43a0b3360b2f",
   "metadata": {},
   "outputs": [
    {
     "name": "stdout",
     "output_type": "stream",
     "text": [
      "Name:  miki\n",
      "Age:  50\n"
     ]
    }
   ],
   "source": [
    "def printinfo( name, age ):\n",
    "    #Test function\n",
    "    print (\"Name: \", name);\n",
    "    print (\"Age: \", age);\n",
    "    return;\n",
    "\n",
    "printinfo( age = 50, name = \"miki\");"
   ]
  },
  {
   "cell_type": "code",
   "execution_count": null,
   "id": "3618c462-9382-45fa-a6da-e08d6096925b",
   "metadata": {},
   "outputs": [],
   "source": []
  }
 ],
 "metadata": {
  "kernelspec": {
   "display_name": "Python 3 (ipykernel)",
   "language": "python",
   "name": "python3"
  },
  "language_info": {
   "codemirror_mode": {
    "name": "ipython",
    "version": 3
   },
   "file_extension": ".py",
   "mimetype": "text/x-python",
   "name": "python",
   "nbconvert_exporter": "python",
   "pygments_lexer": "ipython3",
   "version": "3.11.7"
  }
 },
 "nbformat": 4,
 "nbformat_minor": 5
}
