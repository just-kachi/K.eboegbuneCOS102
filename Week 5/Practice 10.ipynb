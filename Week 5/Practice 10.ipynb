{
 "cells": [
  {
   "cell_type": "code",
   "execution_count": 7,
   "id": "1611b455-0ae0-4876-af18-97c9d1a075b9",
   "metadata": {},
   "outputs": [],
   "source": [
    "import tkinter as tk\n",
    "from tkinter import messagebox\n",
    "\n",
    "#Handling button click event\n",
    "def button_click():\n",
    "    #print(\"Button Clicked!\")\n",
    "\n",
    "    #Show an infromation message box\n",
    "    msgbox.showinfo(\"Info\", \"Welcome to COS 102 GUI APP!\\n\")\n",
    "\n",
    "    #Ask for user confirmation\n",
    "    result = msgbox.askyesorno(\"Confirmation\", \"Do you want to continue?\")\n",
    "\n",
    "#Create the main window\n",
    "root = tk.Tk()\n",
    "root.title(\"Home Page\")\n",
    "root.geometry(\"300x100\")\n",
    "\n",
    "#Add a lable widget\n",
    "label = tk.Label(root, text = \"Hello Friend\\n\")\n",
    "label.pack()\n",
    "\n",
    "#Add a button widget\n",
    "button = tk.Button(root, text = \"click Me!\", command=button_click)\n",
    "button.pack()\n",
    "\n",
    "# Styling the button widget\n",
    "button.config(fg = \"red\", bg = \"yellow\")\n",
    "\n",
    "#Start the event loop\n",
    "root.mainloop()"
   ]
  },
  {
   "cell_type": "code",
   "execution_count": null,
   "id": "2c5c5128-c505-4ba4-9409-64b4739e736d",
   "metadata": {},
   "outputs": [],
   "source": []
  }
 ],
 "metadata": {
  "kernelspec": {
   "display_name": "Python 3 (ipykernel)",
   "language": "python",
   "name": "python3"
  },
  "language_info": {
   "codemirror_mode": {
    "name": "ipython",
    "version": 3
   },
   "file_extension": ".py",
   "mimetype": "text/x-python",
   "name": "python",
   "nbconvert_exporter": "python",
   "pygments_lexer": "ipython3",
   "version": "3.11.7"
  }
 },
 "nbformat": 4,
 "nbformat_minor": 5
}
