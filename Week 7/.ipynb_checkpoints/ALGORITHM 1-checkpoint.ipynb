{
 "cells": [
  {
   "cell_type": "code",
   "execution_count": 1,
   "id": "deeecc03-0477-4678-9ba6-0b13267b2a71",
   "metadata": {},
   "outputs": [
    {
     "ename": "SyntaxError",
     "evalue": "':' expected after dictionary key (2813829962.py, line 5)",
     "output_type": "error",
     "traceback": [
      "\u001b[1;36m  Cell \u001b[1;32mIn[1], line 5\u001b[1;36m\u001b[0m\n\u001b[1;33m    ...\u001b[0m\n\u001b[1;37m      ^\u001b[0m\n\u001b[1;31mSyntaxError\u001b[0m\u001b[1;31m:\u001b[0m ':' expected after dictionary key\n"
     ]
    }
   ],
   "source": [
    "# I Defined the menu items and their prices\n",
    "menu_items = {\n",
    "    \"Jollof Rice\": 350,\n",
    "    \"Coconut Fried Rice\": 350,\n",
    "    ...\n",
    "}\n",
    "\n",
    "# Define an empty list to store selected items and quantities\n",
    "selected_items = []\n",
    "\n",
    "# Define a function to add items to the order\n",
    "function add_to_order():\n",
    "    item = get_selected_item()\n",
    "    quantity = get_quantity()\n",
    "\n",
    "    if item is not None and quantity is not None:\n",
    "        append_to_selected_items(item, quantity)\n",
    "        display_item_in_order_list(item, quantity)\n",
    "\n",
    "# Define a function to calculate the total cost\n",
    "function calculate_total_cost():\n",
    "    total_cost = 0\n",
    "\n",
    "    for each item in selected_items:\n",
    "        total_cost += menu_items[item] * item.quantity\n",
    "\n",
    "    discount = calculate_discount(total_cost)\n",
    "    final_cost = total_cost - discount\n",
    "\n",
    "    display_total_cost(total_cost, discount, final_cost)\n",
    "\n",
    "# Define a function to display the menu\n",
    "function display_menu():\n",
    "    for each category in menu:\n",
    "        display_category(category)\n",
    "\n",
    "# Define a function to open the order page\n",
    "function open_order_page():\n",
    "    create_order_window()\n",
    "    display_item_dropdown()\n",
    "    display_quantity_entry()\n",
    "    display_order_listbox()\n",
    "    display_calculate_button()\n",
    "\n",
    "# Define the main GUI setup\n",
    "function main():\n",
    "    create_main_window()\n",
    "    display_view_menu_button()\n",
    "    display_new_order_button()\n",
    "\n",
    "# Main program starts here\n",
    "main()"
   ]
  },
  {
   "cell_type": "code",
   "execution_count": null,
   "id": "adbf040a-daf4-4cf3-8925-3169ba38caf3",
   "metadata": {},
   "outputs": [],
   "source": []
  }
 ],
 "metadata": {
  "kernelspec": {
   "display_name": "Python 3 (ipykernel)",
   "language": "python",
   "name": "python3"
  },
  "language_info": {
   "codemirror_mode": {
    "name": "ipython",
    "version": 3
   },
   "file_extension": ".py",
   "mimetype": "text/x-python",
   "name": "python",
   "nbconvert_exporter": "python",
   "pygments_lexer": "ipython3",
   "version": "3.11.7"
  }
 },
 "nbformat": 4,
 "nbformat_minor": 5
}
