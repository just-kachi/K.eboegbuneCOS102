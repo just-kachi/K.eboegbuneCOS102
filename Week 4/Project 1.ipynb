{
 "cells": [
  {
   "cell_type": "code",
   "execution_count": 10,
   "id": "191ad11b-4763-4b18-91fb-b88a681a1293",
   "metadata": {},
   "outputs": [
    {
     "name": "stdout",
     "output_type": "stream",
     "text": [
      "Name    | Age | Height    | Scores\n",
      "Evelyn  | 17  | 5.5 |  80\n",
      "Jessica  | 16  | 6.0 |  85\n",
      "Somto  | 17  | 5.4 |  70\n",
      "Edith  | 18  | 5.9 |  60\n",
      "Liza  | 16  | 5.6 |  76\n",
      "Madonna  | 18  | 5.5 |  66\n",
      "Waje  | 17  | 6.1 |  87\n",
      "Tola  | 20  | 6.0 |  95\n",
      "Aisha  | 19  | 5.7 |  50\n",
      "Latifa  | 17  | 5.5 |  49\n",
      " Chinedu | 19 | 5.7 | 74\n",
      " Liam | 16 | 5.9 | 87\n",
      " Wale | 18 | 5.8 | 75\n",
      " Gbenga | 17 | 6.1 | 68\n",
      " Abiola | 20 | 5.9 | 66\n",
      " Kola | 19 | 5.5 | 78\n",
      " Kunle | 16 | 6.1 | 87\n",
      " George | 18 | 5.4 | 98\n",
      " Thomas | 17 | 5.8 | 54\n",
      " Wesley | 19 | 5.7 | 60\n"
     ]
    }
   ],
   "source": [
    "name_1 = ['Evelyn', 'Jessica', 'Somto', 'Edith', 'Liza', 'Madonna', 'Waje', 'Tola', 'Aisha', 'Latifa']\n",
    "age_1 = [17, 16, 17, 18, 16, 18, 17, 20, 19, 17]\n",
    "height_1 = [5.5, 6.0, 5.4, 5.9, 5.6, 5.5, 6.1, 6.0, 5.7, 5.5]\n",
    "scores_1 = [80, 85, 70, 60, 76, 66, 87, 95, 50, 49]\n",
    "\n",
    "name_2 = ['Chinedu', 'Liam', 'Wale', 'Gbenga', 'Abiola', 'Kola', 'Kunle', 'George', 'Thomas', 'Wesley']\n",
    "age_2 = [19, 16, 18, 17, 20, 19, 16, 18, 17, 19]\n",
    "height_2 = [5.7, 5.9, 5.8, 6.1, 5.9, 5.5, 6.1, 5.4, 5.8, 5.7]\n",
    "scores_2 = [74, 87, 75, 68, 66, 78, 87, 98, 54, 60]\n",
    "\n",
    "print(\"Name    | Age | Height    | Scores\")\n",
    "      \n",
    "for i in range(0, 10):\n",
    "        print(f'{name_1[i]}  | {age_1[i]}  | {height_1[i]} |  {scores_1[i]}')\n",
    "\n",
    "for i in range(0, 10):\n",
    "        print(f' {name_2[i]} | {age_2[i]} | {height_2[i]} | {scores_2[i]}')"
   ]
  },
  {
   "cell_type": "code",
   "execution_count": null,
   "id": "96213c3e-4b1b-477b-ad43-536992cc0225",
   "metadata": {},
   "outputs": [],
   "source": []
  }
 ],
 "metadata": {
  "kernelspec": {
   "display_name": "Python 3 (ipykernel)",
   "language": "python",
   "name": "python3"
  },
  "language_info": {
   "codemirror_mode": {
    "name": "ipython",
    "version": 3
   },
   "file_extension": ".py",
   "mimetype": "text/x-python",
   "name": "python",
   "nbconvert_exporter": "python",
   "pygments_lexer": "ipython3",
   "version": "3.11.7"
  }
 },
 "nbformat": 4,
 "nbformat_minor": 5
}
