{
 "cells": [
  {
   "cell_type": "code",
   "execution_count": 24,
   "id": "b94a16be-a047-4b63-ae06-7554259461c1",
   "metadata": {},
   "outputs": [
    {
     "name": "stdin",
     "output_type": "stream",
     "text": [
      "Enter Your Years of Experience:  56\n",
      "Enter your Age:  64\n"
     ]
    },
    {
     "name": "stdout",
     "output_type": "stream",
     "text": [
      "Your Annual Tax Revenue(ATR) is N5,600,000\n"
     ]
    }
   ],
   "source": [
    "years_of_experience = float(input(\"Enter Your Years of Experience: \"))\n",
    "age = float(input(\"Enter your Age: \"))\n",
    "\n",
    "if years_of_experience > 25 and age >= 55:\n",
    "    print(\"Your Annual Tax Revenue(ATR) is N5,600,000\")\n",
    "\n",
    "elif years_of_experience > 20 and years_of_experience <= 25 and age >= 45 and age < 55:\n",
    "    print(\"Your Annual Tax Revenue(ATR) is N4,480,000\")\n",
    "\n",
    "elif years_of_experience > 10 and years_of_experience <= 20 and age >= 35 and age < 45:\n",
    "    print(\"Your Annual Tax Revenue(ATR) is N1,500,000\")\n",
    "\n",
    "elif years_of_experience > 0 and years_of_experience <= 10 and age > 17 and age < 35:\n",
    "    print(\"Your Annual Tax Revenue(ATR) is N550,000\")"
   ]
  },
  {
   "cell_type": "code",
   "execution_count": null,
   "id": "09b2b929-924b-4c4e-ab93-20d33bb83172",
   "metadata": {},
   "outputs": [],
   "source": []
  }
 ],
 "metadata": {
  "kernelspec": {
   "display_name": "Python 3 (ipykernel)",
   "language": "python",
   "name": "python3"
  },
  "language_info": {
   "codemirror_mode": {
    "name": "ipython",
    "version": 3
   },
   "file_extension": ".py",
   "mimetype": "text/x-python",
   "name": "python",
   "nbconvert_exporter": "python",
   "pygments_lexer": "ipython3",
   "version": "3.11.7"
  }
 },
 "nbformat": 4,
 "nbformat_minor": 5
}
