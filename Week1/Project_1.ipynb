{
 "cells": [
  {
   "cell_type": "code",
   "execution_count": 9,
   "id": "9354905d-0b28-4fec-8bec-d84c079d5032",
   "metadata": {},
   "outputs": [
    {
     "ename": "SyntaxError",
     "evalue": "invalid syntax (2559035044.py, line 3)",
     "output_type": "error",
     "traceback": [
      "\u001b[1;36m  Cell \u001b[1;32mIn[9], line 3\u001b[1;36m\u001b[0m\n\u001b[1;33m    Input principal amount\u001b[0m\n\u001b[1;37m          ^\u001b[0m\n\u001b[1;31mSyntaxError\u001b[0m\u001b[1;31m:\u001b[0m invalid syntax\n"
     ]
    }
   ],
   "source": [
    "# Flowchart for Simple interest\n",
    "Start\n",
    "Input principal amount\n",
    "Input Interest Rate\n",
    "Input Time\n",
    "Process the Simple Interest using the formula (A = p(1 + (R/100) * T))\n",
    "Print Simple Interest \n",
    "End"
   ]
  },
  {
   "cell_type": "code",
   "execution_count": 15,
   "id": "ba5eabca-6568-4e1b-88d2-53e24c07efef",
   "metadata": {},
   "outputs": [],
   "source": [
    "def calculate_simple_interest(principal, rate, time):\n",
    "    return principal * (1 + (rate / 100) * time)\n",
    "\n",
    "def flowchart():\n",
    "    # Input principal amount\n",
    "    principal = float(input(\"Enter the principal amount: \"))\n",
    "\n",
    "    # Input interest rate\n",
    "    rate = float(input(\"Enter the interest rate (in percentage): \"))\n",
    "\n",
    "    # Input time period\n",
    "    time = float(input(\"Enter the time period (in years): \"))\n",
    "\n",
    "    # Calculate simple interest\n",
    "    simple_interest = calculate_simple_interest(principal, rate, time)\n",
    "\n",
    "    # Display simple interest\n",
    "    print(\"Simple Interest:\", simple_interest)\n",
    "\n"
   ]
  },
  {
   "cell_type": "code",
   "execution_count": null,
   "id": "0626dc67-de97-42e0-89b7-f4af31e4589d",
   "metadata": {},
   "outputs": [],
   "source": [
    "# Flowchart for compound Interest\n",
    "Start\n",
    "Input principal amount\n",
    "Input Interest Rate\n",
    "Input Number of Intervals\n",
    "Input Time\n",
    "Process the Compound Interest using the formula (A = p(1 + (R/n) * nT))\n",
    "Print Compound Interest \n",
    "End"
   ]
  },
  {
   "cell_type": "code",
   "execution_count": null,
   "id": "bc6f1725-42c8-494a-be3f-1814935e8c77",
   "metadata": {},
   "outputs": [],
   "source": [
    "def calculate_compound_interest(principal, rate, frequency, time):\n",
    "    return principal * (1 + (rate / frequency) * (frequency * time)\n",
    "\n",
    "def flowchart():\n",
    "    # Input principal amount\n",
    "    principal = float(input(\"Enter the principal amount: \"))\n",
    "\n",
    "    # Input interest rate\n",
    "    rate = float(input(\"Enter the interest rate (in percentage): \"))\n",
    "\n",
    "    # Input time period\n",
    "    time = float(input(\"Enter the time period (in years): \"))\n",
    "\n",
    "    # Input the frequency\n",
    "    interval = float(input(\"Enter the frequency: \"))\n",
    "\n",
    "    # Calculate Compound interest\n",
    "    compound_interest = calculate_compound_interest(principal, rate, frequency, time)\n",
    "\n",
    "    # Display Compound interest\n",
    "    print(\"Compound Interest:\", compound_interest)"
   ]
  },
  {
   "cell_type": "code",
   "execution_count": null,
   "id": "4abc48ca-32dd-4a4e-bd37-6009a7e32462",
   "metadata": {},
   "outputs": [],
   "source": [
    "# Flowchart for Annuity Plan\n",
    "Start\n",
    "Input Periodic Payment\n",
    "Input Periodic Interest Rate\n",
    "Input Time\n",
    "Input Number of periods\n",
    "Process the Annuity Plan using the formula A = p * ((1 + (R/n) ** nT -1))/(r/n)\n",
    "Print Annuity Plan \n",
    "End"
   ]
  },
  {
   "cell_type": "code",
   "execution_count": null,
   "id": "d97eceff-1b7e-48f0-9772-5746db96740b",
   "metadata": {},
   "outputs": [],
   "source": [
    "def calculate_annuity_plan(payment, rate, periods, time):\n",
    "    return payment * (((1 + rate) ** periods * time - 1) / rate) * (1 + rate)\n",
    "\n",
    "def main():\n",
    "    # Input periodic payment (P)\n",
    "    payment = float(input(\"Enter the periodic payment (P): \"))\n",
    "\n",
    "    # Input periodic interest rate (r)\n",
    "    rate = float(input(\"Enter the periodic interest rate (in decimal): \"))\n",
    "\n",
    "    # Input time (t)\n",
    "    rate = float(input(\"Enter the time: \"))\n",
    "\n",
    "    # Input number of periods (n)\n",
    "    periods = int(input(\"Enter the number of periods (n): \"))\n",
    "\n",
    "    # Calculate future value of annuity\n",
    "    future_value = calculate_annuity_plan(payment, rate, periods, time):\n",
    "\n",
    "    # Display future value of annuity\n",
    "    print(\"Future Value of Annuity:\", future_value)\n"
   ]
  }
 ],
 "metadata": {
  "kernelspec": {
   "display_name": "Python 3 (ipykernel)",
   "language": "python",
   "name": "python3"
  },
  "language_info": {
   "codemirror_mode": {
    "name": "ipython",
    "version": 3
   },
   "file_extension": ".py",
   "mimetype": "text/x-python",
   "name": "python",
   "nbconvert_exporter": "python",
   "pygments_lexer": "ipython3",
   "version": "3.11.7"
  }
 },
 "nbformat": 4,
 "nbformat_minor": 5
}
