{
 "cells": [
  {
   "cell_type": "code",
   "execution_count": 1,
   "id": "a76f0a29-acea-494b-adf3-74e32e4dd98f",
   "metadata": {},
   "outputs": [
    {
     "name": "stdout",
     "output_type": "stream",
     "text": [
      "Hi, my name is Matthew. I am a String\n",
      "<class 'str'>\n",
      "Hi, my name is Precious, I am also a String\n",
      "<class 'str'>\n"
     ]
    }
   ],
   "source": [
    "# Python program to print strings and type\n",
    "str1 = \"Hi, my name is Matthew. I am a String\"\n",
    "str2 = 'Hi, my name is Precious, I am also a String'\n",
    "\n",
    "# displaying string str1 and it's type\n",
    "print(str1)\n",
    "print(type(str2))\n",
    "\n",
    "# displaying string str2 and it's type\n",
    "print(str2)\n",
    "print(type(str2))"
   ]
  },
  {
   "cell_type": "code",
   "execution_count": null,
   "id": "84ccdd26-f978-4f39-9d97-bd92de9b49c2",
   "metadata": {},
   "outputs": [],
   "source": []
  }
 ],
 "metadata": {
  "kernelspec": {
   "display_name": "Python 3 (ipykernel)",
   "language": "python",
   "name": "python3"
  },
  "language_info": {
   "codemirror_mode": {
    "name": "ipython",
    "version": 3
   },
   "file_extension": ".py",
   "mimetype": "text/x-python",
   "name": "python",
   "nbconvert_exporter": "python",
   "pygments_lexer": "ipython3",
   "version": "3.11.7"
  }
 },
 "nbformat": 4,
 "nbformat_minor": 5
}
