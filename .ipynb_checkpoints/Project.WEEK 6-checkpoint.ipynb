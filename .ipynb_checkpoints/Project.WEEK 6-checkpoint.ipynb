{
 "cells": [
  {
   "cell_type": "code",
   "execution_count": 1,
   "id": "4a19c9d0-ee45-4135-8961-3aef21c6aa99",
   "metadata": {},
   "outputs": [
    {
     "name": "stdin",
     "output_type": "stream",
     "text": [
      "Which course are you registering for? (Computer Science / Mass Communication) Computer Science\n",
      "Input Your JAMB score:  251\n",
      "Did your pass the interview? (Yes/No)  Yes\n"
     ]
    },
    {
     "name": "stdout",
     "output_type": "stream",
     "text": [
      "Please input your grades for the following key subjects:\n"
     ]
    },
    {
     "name": "stdin",
     "output_type": "stream",
     "text": [
      "Grade in Mathematics:  A1\n",
      "Grade in English:  B2\n",
      "Grade in Economics:  B3\n",
      "Grade in Physics:  B4\n",
      "Grade in Chemistry:  C5\n",
      "Grade in Biology:  C6\n",
      "Grade in Further Maths:  D7\n"
     ]
    },
    {
     "name": "stdout",
     "output_type": "stream",
     "text": [
      "You failed Further Maths.\n"
     ]
    },
    {
     "name": "stdin",
     "output_type": "stream",
     "text": [
      "Grade in Data Processing:  C6\n"
     ]
    },
    {
     "name": "stdout",
     "output_type": "stream",
     "text": [
      "Congratulations! You passed the grade requirements.\n",
      "Congratulations! You have gained admission into the Computer Science Department.\n"
     ]
    }
   ],
   "source": [
    "key_subjects_computer_science = [\"Mathematics\", \"English\", \"Economics\", \"Physics\", \"Chemistry\", \"Biology\", \"Further Maths\", \"Data Processing\"]\n",
    "key_subjects_mass_communication = [\"Mathematics\", \"English\", \"Government\", \"Literature\", \"Civic Education\", \"CRS/IRS\", \"Biology\"]\n",
    "\n",
    "# This function checks if a grade is passing or not\n",
    "def is_passing_grade(grade):\n",
    "    passing_grades = [\"A1\", \"B2\", \"B3\", \"C4\", \"C5\", \"C6\"]\n",
    "    return grade.upper() in passing_grades\n",
    "\n",
    "# Function to ask for grades and evaluate eligibility\n",
    "def evaluate_eligibility(subjects):\n",
    "    passing_grades = [\"A1\", \"B2\", \"B3\", \"C4\", \"C5\", \"C6\"]\n",
    "    passed_subjects_count = 0\n",
    "    for subject in subjects:\n",
    "        grade = input(f\"Grade in {subject}: \").strip().upper()\n",
    "        if grade in passing_grades:\n",
    "            passed_subjects_count += 1\n",
    "        elif grade in [\"D7\", \"E8\", \"F9\"]:\n",
    "            print(f\"You failed {subject}.\")\n",
    "    if passed_subjects_count >= 5:\n",
    "        print(\"Congratulations! You passed the grade requirements.\")\n",
    "        return True\n",
    "    else:\n",
    "        print(\"Sorry, You did not pass the grade requirements. You cannot be admitted into the school\")\n",
    "        return False\n",
    "\n",
    "course_choice = input(\"Which course are you registering for? (Computer Science / Mass Communication)\").strip().lower()\n",
    "\n",
    "if course_choice == \"computer science\":\n",
    "    jamb_score = int(input(\"Input Your JAMB score: \"))\n",
    "    interview_passed = input(\"Did your pass the interview? (Yes/No) \").strip().lower()\n",
    "    print(\"Please input your grades for the following key subjects:\")\n",
    "    if evaluate_eligibility(key_subjects_computer_science):\n",
    "        if jamb_score >= 250 and interview_passed == \"yes\":\n",
    "            print(\"Congratulations! You have gained admission into the Computer Science Department.\")\n",
    "        else:\n",
    "            print(\"Sorry, you are not eligible for admission into the Computer Science Department.\")\n",
    "\n",
    "elif course_choice == \"mass communication\":\n",
    "    jamb_score = int(input(\"Input Your JAMB score: \"))\n",
    "    interview_passed = input(\"Did your pass the interview? (Yes/No) \").strip().lower()\n",
    "    print(\"Please input your grades for the following key subjects:\")\n",
    "    if evaluate_eligibility(key_subjects_mass_communication):\n",
    "        if jamb_score >= 250 and interview_passed == \"yes\":\n",
    "            print(\"Congratulations! You have gained admission into the Mass Communication Department.\")\n",
    "        else:\n",
    "            print(\"Sorry, you are not eligible for admission into the Mass Communication Department.\")\n",
    "\n",
    "else:\n",
    "    print(\"Invalid course choice. Please choose either 'Computer Science' or 'Mass Communication'.\")\n"
   ]
  },
  {
   "cell_type": "code",
   "execution_count": null,
   "id": "49d9131c-dfff-468c-9628-61fd4a36a6a2",
   "metadata": {},
   "outputs": [],
   "source": []
  }
 ],
 "metadata": {
  "kernelspec": {
   "display_name": "Python 3 (ipykernel)",
   "language": "python",
   "name": "python3"
  },
  "language_info": {
   "codemirror_mode": {
    "name": "ipython",
    "version": 3
   },
   "file_extension": ".py",
   "mimetype": "text/x-python",
   "name": "python",
   "nbconvert_exporter": "python",
   "pygments_lexer": "ipython3",
   "version": "3.11.7"
  }
 },
 "nbformat": 4,
 "nbformat_minor": 5
}
